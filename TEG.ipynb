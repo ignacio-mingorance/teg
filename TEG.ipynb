{
 "cells": [
  {
   "cell_type": "markdown",
   "metadata": {},
   "source": [
    "# Analyzing the Board Game _TEG_\n",
    "\n",
    "Falta reemplazar las instancias de Risk por TEG\n",
    "\n",
    "This notebook shows you how to use the probability tools from this site to analyze the odds in [_Risk_](https://en.wikipedia.org/wiki/Risk_(game%29), so you can make better decisions and hopefully improve your chances of winning.\n",
    "\n",
    "If you're not familiar with _Risk_, you can [find an overview of how to play the game here](http://www.ultraboardgames.com/risk/game-rules.php)."
   ]
  },
  {
   "cell_type": "code",
   "execution_count": 2,
   "metadata": {},
   "outputs": [],
   "source": [
    "from collections import deque, defaultdict\n",
    "import itertools as it"
   ]
  },
  {
   "cell_type": "code",
   "execution_count": 3,
   "metadata": {},
   "outputs": [],
   "source": [
    "import numpy as np\n",
    "import pandas as pd\n",
    "pd.options.display.float_format = '{:.3f}'.format"
   ]
  },
  {
   "cell_type": "code",
   "execution_count": 4,
   "metadata": {},
   "outputs": [],
   "source": [
    "%matplotlib inline\n",
    "import matplotlib as mpl\n",
    "import matplotlib.pyplot as plt\n",
    "import seaborn as sns\n",
    "sns.set()\n",
    "sns.set_context('notebook')\n",
    "plt.style.use('ggplot')"
   ]
  },
  {
   "cell_type": "markdown",
   "metadata": {},
   "source": [
    "This notebook uses the probability modules from the `pracpred` package developed on this site. You can [find more information about the package here](https://github.com/practicallypredictable/pracpred) and [here](https://pypi.python.org/pypi/pracpred/0.1.2)."
   ]
  },
  {
   "cell_type": "code",
   "execution_count": 5,
   "metadata": {},
   "outputs": [],
   "source": [
    "from pracpred.prob import Prob, ProbDist"
   ]
  },
  {
   "cell_type": "markdown",
   "metadata": {},
   "source": [
    "_Risk_ uses up to 5 six-sided dice to determine the outcome of attacks."
   ]
  },
  {
   "cell_type": "code",
   "execution_count": 275,
   "metadata": {},
   "outputs": [],
   "source": [
    "d6 = ProbDist(range(1,7))"
   ]
  },
  {
   "cell_type": "code",
   "execution_count": 276,
   "metadata": {},
   "outputs": [
    {
     "data": {
      "text/plain": [
       "ProbDist({1: Prob(1, 6), 2: Prob(1, 6), 3: Prob(1, 6), 4: Prob(1, 6), 5: Prob(1, 6), 6: Prob(1, 6)})"
      ]
     },
     "execution_count": 276,
     "metadata": {},
     "output_type": "execute_result"
    }
   ],
   "source": [
    "d6"
   ]
  },
  {
   "cell_type": "markdown",
   "metadata": {},
   "source": [
    "### Attacks in _Risk_\n",
    "\n",
    "We are going to use the term _attack_ to mean a clash between armies settled by a dice roll. In _Risk_, any particular attack can have up to 3 attacking armies and up to 2 defending armies. There are only 6 valid attacks."
   ]
  },
  {
   "cell_type": "code",
   "execution_count": 277,
   "metadata": {},
   "outputs": [],
   "source": [
    "# Attacks are represented as a tuple of (attacker armies, defender armies)\n",
    "# Attacks do not include the attacker army required to remain in the territory from which the attack is launched\n",
    "VALID_ATTACKS = [\n",
    "    (1, 1),\n",
    "    (1, 2),\n",
    "    (1, 3),\n",
    "    (2, 1),\n",
    "    (2, 2),\n",
    "    (2, 3),\n",
    "    (3, 1),\n",
    "    (3, 2),\n",
    "    (3, 3),\n",
    "]"
   ]
  },
  {
   "cell_type": "markdown",
   "metadata": {},
   "source": [
    "We are going to use the term _battle_ to mean the larger conflict between two players over a particular territory. For example, if the attacker has 20 armies in China and wishes to attack the defender's 15 armies in Siberia, we call that a 19-on-15 battle. (In _Risk_, the attacker is required to keep one army in the territory from which he or she is attacking.)\n",
    "\n",
    "Within this larger battle, each roll of the dice is an attack, which is at most 3-on-2. It's important to be clear about the difference between battles and attacks, since the attacker can halt the battle at any point, and potentially do something completely different.\n",
    "\n",
    "We will begin defining some Python functions to help us represent the board game."
   ]
  },
  {
   "cell_type": "code",
   "execution_count": 278,
   "metadata": {},
   "outputs": [],
   "source": [
    "def attackers(attack):\n",
    "    \"\"\"Number of attackers in an attack.\"\"\"\n",
    "    return attack[0]\n",
    "\n",
    "def defenders(attack):\n",
    "    \"\"\"Number of defenders in an attack.\"\"\"\n",
    "    return attack[1]\n",
    "\n",
    "def total_armies(attack):\n",
    "    \"\"\"Total number of armies on both sides involved in an attck.\"\"\"\n",
    "    return attackers(attack)+defenders(attack)"
   ]
  },
  {
   "cell_type": "markdown",
   "metadata": {},
   "source": [
    "### Dice Probabilities\n",
    "\n",
    "We can compute all the possible dice rolls in advance, since there are only at most 5 dice rolled."
   ]
  },
  {
   "cell_type": "code",
   "execution_count": 279,
   "metadata": {},
   "outputs": [],
   "source": [
    "def get_roll_probs(attacks):\n",
    "    \"\"\"Probability distribution of rolls in attacks, by total number of dice rolled.\"\"\"\n",
    "    return {total_armies(attack): d6.repeated(total_armies(attack), product=True) for attack in attacks}"
   ]
  },
  {
   "cell_type": "code",
   "execution_count": 280,
   "metadata": {},
   "outputs": [
    {
     "data": {
      "text/plain": [
       "5"
      ]
     },
     "execution_count": 280,
     "metadata": {},
     "output_type": "execute_result"
    }
   ],
   "source": [
    "roll_probs = get_roll_probs(VALID_ATTACKS)\n",
    "len(roll_probs)"
   ]
  },
  {
   "cell_type": "code",
   "execution_count": 281,
   "metadata": {},
   "outputs": [
    {
     "data": {
      "text/plain": [
       "dict_keys([2, 3, 4, 5, 6])"
      ]
     },
     "execution_count": 281,
     "metadata": {},
     "output_type": "execute_result"
    }
   ],
   "source": [
    "roll_probs.keys()"
   ]
  },
  {
   "cell_type": "markdown",
   "metadata": {},
   "source": [
    "Every attack has at least 2 dice (one for the attacker and one for the defender). Notice also that we are not distinguishing between attacker and defender dice yet. This means that the 2-on-2 attack and the 3-on-1 attack will both use the roll probabilities for 4 dice, for example.\n",
    "\n",
    "Let's look at the number of outcomes in the distribution for each set of dice."
   ]
  },
  {
   "cell_type": "code",
   "execution_count": 282,
   "metadata": {},
   "outputs": [
    {
     "name": "stdout",
     "output_type": "stream",
     "text": [
      "2 36\n",
      "3 216\n",
      "4 1296\n",
      "5 7776\n",
      "6 46656\n"
     ]
    }
   ],
   "source": [
    "for armies in roll_probs:\n",
    "    print(armies, len(roll_probs[armies]))"
   ]
  },
  {
   "cell_type": "markdown",
   "metadata": {},
   "source": [
    "In our [previous post on dice rolls](http://practicallypredictable.com/2017/12/04/probability-distributions-dice-rolls/), we looked at the distribution of the sum of six-sided dice. For _Risk_, we need to generate the full [Cartesian product](https://en.wikipedia.org/wiki/Cartesian_product) of possible dice outcomes, because we are comparing the attacker and defender dice individually. That's why the number of outcomes for each set of dice is $6^n$, where $n$ is the number of dice rolled.\n",
    "\n",
    "### Attacker versus Defender Rolls\n",
    "\n",
    "Now we need to separately keep track of the attacker dice and the defender dice. We also need to sort each set of dice so we can determine the outcome of an attack."
   ]
  },
  {
   "cell_type": "code",
   "execution_count": 283,
   "metadata": {},
   "outputs": [],
   "source": [
    "def attacker_roll(attack, roll):\n",
    "    \"\"\"Dice rolled by attacker, sorted highest to lowest.\"\"\"\n",
    "    return sorted(roll[:attackers(attack)], reverse=True)\n",
    "\n",
    "def defender_roll(attack, roll):\n",
    "    \"\"\"Dice rolled by defender, sorted highest to lowest.\"\"\"\n",
    "    return sorted(roll[-defenders(attack):], reverse=True)"
   ]
  },
  {
   "cell_type": "markdown",
   "metadata": {},
   "source": [
    "We'll discuss in a little bit how to figure out how many dice to roll for a given attack.\n",
    "\n",
    "Let's simulate a 3-on-2 attack to see how these functions work."
   ]
  },
  {
   "cell_type": "code",
   "execution_count": 284,
   "metadata": {},
   "outputs": [],
   "source": [
    "# Example 3-on-2 attack\n",
    "attack = (3, 3)"
   ]
  },
  {
   "cell_type": "code",
   "execution_count": 285,
   "metadata": {},
   "outputs": [
    {
     "data": {
      "text/plain": [
       "(4, 3, 5, 4, 3, 6)"
      ]
     },
     "execution_count": 285,
     "metadata": {},
     "output_type": "execute_result"
    }
   ],
   "source": [
    "roll = roll_probs[total_armies(attack)].choice()\n",
    "roll"
   ]
  },
  {
   "cell_type": "code",
   "execution_count": 286,
   "metadata": {},
   "outputs": [
    {
     "data": {
      "text/plain": [
       "[5, 4, 3]"
      ]
     },
     "execution_count": 286,
     "metadata": {},
     "output_type": "execute_result"
    }
   ],
   "source": [
    "attacker_roll(attack, roll)"
   ]
  },
  {
   "cell_type": "code",
   "execution_count": 287,
   "metadata": {},
   "outputs": [
    {
     "data": {
      "text/plain": [
       "[6, 4, 3]"
      ]
     },
     "execution_count": 287,
     "metadata": {},
     "output_type": "execute_result"
    }
   ],
   "source": [
    "defender_roll(attack, roll)"
   ]
  },
  {
   "cell_type": "markdown",
   "metadata": {},
   "source": [
    "### Armies Lost\n",
    "\n",
    "Now we can figure out how many armies each side loses in the attack. We compare the highest die roll by the attacker to the highest die roll by the defender. The attacker loses an army if his or her roll is less than or equal to the defender's roll. Otherwise, the defender loses an army.\n",
    "\n",
    "If the attacker is rolling more than one die, and the defender is rolling two dice, we compare the attacker's second-highest die roll with the defender's lower die roll. The attacker loses an army if his or her second die roll is less than or equal to the defender's lower die roll. Otherwise, the defender loses an army.\n",
    "\n",
    "In one attack, the most armies either side can lose is equal to the number of dice the defender rolls.\n",
    "\n",
    "This function will determine how many armies each side loses in a particular attack given the dice rolls."
   ]
  },
  {
   "cell_type": "code",
   "execution_count": 288,
   "metadata": {},
   "outputs": [],
   "source": [
    "# EDITAR PARA CONSIDERAR TERCER DADO!!!!!!!!!!!!!!!!!!!!!!!!!!!!!!!!!!!!!!!!!!!!!!!!!!!!!!!!!!!!!!!!!!!!!!!!!\n",
    "def losses_from_roll(att_roll, def_roll):\n",
    "    \"\"\"Armies lost by (attacker, defender) based on dice roll.\"\"\"\n",
    "    if att_roll[0] > def_roll[0]:\n",
    "        att_loses = 0\n",
    "        def_loses = 1\n",
    "    else:\n",
    "        att_loses = 1\n",
    "        def_loses = 0\n",
    "    if len(def_roll) > 1 and len(att_roll) > 1:\n",
    "        if att_roll[1] > def_roll[1]:\n",
    "            def_loses += 1\n",
    "        else:\n",
    "            att_loses += 1\n",
    "    if len(def_roll) > 2 and len(att_roll) > 2:\n",
    "        if att_roll[2] > def_roll[2]:\n",
    "            def_loses += 1\n",
    "        else:\n",
    "            att_loses += 1\n",
    "    return (att_loses, def_loses)"
   ]
  },
  {
   "cell_type": "code",
   "execution_count": 289,
   "metadata": {},
   "outputs": [
    {
     "data": {
      "text/plain": [
       "(3, 0)"
      ]
     },
     "execution_count": 289,
     "metadata": {},
     "output_type": "execute_result"
    }
   ],
   "source": [
    "losses_from_roll(attacker_roll(attack, roll), defender_roll(attack, roll))"
   ]
  },
  {
   "cell_type": "markdown",
   "metadata": {},
   "source": [
    "The above function can tell us how many armies each side loses for a given attacker roll and defender roll. To use the function, though, we first need to separate out the attacker dice from the defender dice.\n",
    "\n",
    "### Armies Lost for Every Possible Attack\n",
    "\n",
    "What we really want is for each possible type of attack to have it's own function, which will compute the armies lost for any particular dice roll. Here's a neat trick using [nested functions in Python](https://realpython.com/blog/python/inner-functions-what-are-they-good-for/) to do that."
   ]
  },
  {
   "cell_type": "code",
   "execution_count": 290,
   "metadata": {},
   "outputs": [],
   "source": [
    "def armies_lost(attack):\n",
    "    \"\"\"Create a function to calculate armies lost by (attacker, defender) for a given attack.\"\"\"\n",
    "    def inner_func(roll):\n",
    "        att_roll = attacker_roll(attack, roll)\n",
    "        def_roll = defender_roll(attack, roll)\n",
    "        return losses_from_roll(att_roll, def_roll)\n",
    "    return inner_func"
   ]
  },
  {
   "cell_type": "code",
   "execution_count": 291,
   "metadata": {},
   "outputs": [
    {
     "data": {
      "text/plain": [
       "function"
      ]
     },
     "execution_count": 291,
     "metadata": {},
     "output_type": "execute_result"
    }
   ],
   "source": [
    "type(armies_lost(attack))"
   ]
  },
  {
   "cell_type": "markdown",
   "metadata": {},
   "source": [
    "So this function returned a function? Yes, in Python you can do that. The expression `armies_lost(attack)` looks like it should return a value of some sort, but in this case it returns a function.\n",
    "\n",
    "Remember that the example attack we were playing with above is 3-on-2. The point of the nested function is that the `attack` parameter is known to the `inner_func` function, and gets hidden inside it. The inner function will always \"remember\" that it was initially called with the 3-on-2 attack parameter. We can call the returned function now with a particular dice roll, and the function will assume a 3-on-2 attack."
   ]
  },
  {
   "cell_type": "code",
   "execution_count": 292,
   "metadata": {},
   "outputs": [
    {
     "data": {
      "text/plain": [
       "(3, 0)"
      ]
     },
     "execution_count": 292,
     "metadata": {},
     "output_type": "execute_result"
    }
   ],
   "source": [
    "armies_lost(attack)(roll)"
   ]
  },
  {
   "cell_type": "markdown",
   "metadata": {},
   "source": [
    "Now we can build a function like this for every possible attack. Think of the `armies_lost()` function as a \"factory\" that builds and returns other functions, based on what type of attack we tell it to build."
   ]
  },
  {
   "cell_type": "code",
   "execution_count": 293,
   "metadata": {},
   "outputs": [],
   "source": [
    "def get_attack_losses(attacks):\n",
    "    \"\"\"Functions to calculate armies lost by attacker and defender for each type of attack.\"\"\"\n",
    "    return {attack: armies_lost(attack) for attack in attacks}"
   ]
  },
  {
   "cell_type": "code",
   "execution_count": 294,
   "metadata": {},
   "outputs": [
    {
     "data": {
      "text/plain": [
       "{(1, 1): <function __main__.armies_lost.<locals>.inner_func(roll)>,\n",
       " (1, 2): <function __main__.armies_lost.<locals>.inner_func(roll)>,\n",
       " (1, 3): <function __main__.armies_lost.<locals>.inner_func(roll)>,\n",
       " (2, 1): <function __main__.armies_lost.<locals>.inner_func(roll)>,\n",
       " (2, 2): <function __main__.armies_lost.<locals>.inner_func(roll)>,\n",
       " (2, 3): <function __main__.armies_lost.<locals>.inner_func(roll)>,\n",
       " (3, 1): <function __main__.armies_lost.<locals>.inner_func(roll)>,\n",
       " (3, 2): <function __main__.armies_lost.<locals>.inner_func(roll)>,\n",
       " (3, 3): <function __main__.armies_lost.<locals>.inner_func(roll)>}"
      ]
     },
     "execution_count": 294,
     "metadata": {},
     "output_type": "execute_result"
    }
   ],
   "source": [
    "attack_losses = get_attack_losses(VALID_ATTACKS)\n",
    "attack_losses"
   ]
  },
  {
   "cell_type": "markdown",
   "metadata": {},
   "source": [
    "Let's take a moment to review what's going on here. We now have 6 functions, one for each possible attack type. Given the type of attack, we can look up the right function to use and call it on a particular dice roll."
   ]
  },
  {
   "cell_type": "code",
   "execution_count": 295,
   "metadata": {},
   "outputs": [
    {
     "data": {
      "text/plain": [
       "(3, 0)"
      ]
     },
     "execution_count": 295,
     "metadata": {},
     "output_type": "execute_result"
    }
   ],
   "source": [
    "attack_losses[attack](roll)"
   ]
  },
  {
   "cell_type": "markdown",
   "metadata": {},
   "source": [
    "Let's test our function on 10 random 3-on-2 attacks to get a feel for how it works."
   ]
  },
  {
   "cell_type": "code",
   "execution_count": 296,
   "metadata": {},
   "outputs": [
    {
     "name": "stdout",
     "output_type": "stream",
     "text": [
      "Att = [6, 6, 2], Def = [5, 4, 1], losses = (0, 3)\n",
      "Att = [5, 5, 5], Def = [1, 1, 1], losses = (0, 3)\n",
      "Att = [6, 5, 4], Def = [4, 3, 2], losses = (0, 3)\n",
      "Att = [6, 2, 2], Def = [4, 3, 1], losses = (1, 2)\n",
      "Att = [6, 6, 1], Def = [3, 2, 2], losses = (1, 2)\n",
      "Att = [6, 4, 3], Def = [6, 2, 1], losses = (1, 2)\n",
      "Att = [6, 6, 2], Def = [4, 4, 2], losses = (1, 2)\n",
      "Att = [6, 6, 2], Def = [6, 3, 1], losses = (1, 2)\n",
      "Att = [6, 2, 1], Def = [4, 4, 2], losses = (2, 1)\n",
      "Att = [5, 4, 2], Def = [1, 1, 1], losses = (0, 3)\n"
     ]
    }
   ],
   "source": [
    "for roll in roll_probs[total_armies(attack)].sample(10):\n",
    "    print('Att = {att_roll}, Def = {def_roll}, losses = {losses}'.format(\n",
    "        att_roll=attacker_roll(attack, roll),\n",
    "        def_roll=defender_roll(attack, roll),\n",
    "        losses=attack_losses[attack](roll))\n",
    "    )"
   ]
  },
  {
   "cell_type": "markdown",
   "metadata": {},
   "source": [
    "### Probability of Attack Outcomes\n",
    "\n",
    "Now we can start analyzing probabilities of attack outcomes. For each type of possible attack, we need to get all the possible dice rolls for that type, and then group the outcomes by how many armies are lost by each side.\n",
    "\n",
    "This is reason I created a different army loss function for each type of attack. It makes it easy to do all the grouping in our probability framework."
   ]
  },
  {
   "cell_type": "code",
   "execution_count": 297,
   "metadata": {},
   "outputs": [
    {
     "data": {
      "text/plain": [
       "ProbDist({(0, 3): Prob(535, 3888), (1, 2): Prob(371, 1728), (2, 1): Prob(343, 1296), (3, 0): Prob(5957, 15552)})"
      ]
     },
     "execution_count": 297,
     "metadata": {},
     "output_type": "execute_result"
    }
   ],
   "source": [
    "roll_probs[total_armies(attack)].groupby(attack_losses[attack])"
   ]
  },
  {
   "cell_type": "markdown",
   "metadata": {},
   "source": [
    "Take a moment to unpack the above line. For the given attack type (in this example, 3-on-2), get the number of dice to roll (in this case, 5), and get all of the 7776 possible rolls for 5 dice. Then group those rolls by how many armies are lost in each roll outcome.\n",
    "\n",
    "That's a lot going on in one line of Python. But it shows the power and generality of the probabilty modeling framework.\n",
    "\n",
    "Now we can generate the distribution of armies lost for every possible attack, not just 3-on-2."
   ]
  },
  {
   "cell_type": "code",
   "execution_count": 298,
   "metadata": {},
   "outputs": [],
   "source": [
    "def get_loss_probs(attacks, roll_probs=None, attack_losses=None):\n",
    "    \"\"\"Distribution of armies lost by (attacker, defender) in an attack, by attack.\"\"\"\n",
    "    if not roll_probs:\n",
    "        roll_probs = get_roll_probs(attacks)\n",
    "    if not attack_losses:\n",
    "        attack_losses = get_attack_losses(attacks)\n",
    "    return {attack: roll_probs[total_armies(attack)].groupby(attack_losses[attack]) for attack in attacks}"
   ]
  },
  {
   "cell_type": "code",
   "execution_count": 299,
   "metadata": {},
   "outputs": [
    {
     "data": {
      "text/plain": [
       "9"
      ]
     },
     "execution_count": 299,
     "metadata": {},
     "output_type": "execute_result"
    }
   ],
   "source": [
    "# TIENE QUE DAR 9 ?!!!!!!\n",
    "loss_probs = get_loss_probs(VALID_ATTACKS, roll_probs, attack_losses)\n",
    "len(loss_probs)"
   ]
  },
  {
   "cell_type": "code",
   "execution_count": 300,
   "metadata": {},
   "outputs": [
    {
     "name": "stdout",
     "output_type": "stream",
     "text": [
      "(1, 1) {(0, 1): 5/12, (1, 0): 7/12}\n",
      "(1, 2) {(0, 1): 55/216, (1, 0): 161/216}\n",
      "(1, 3) {(0, 1): 25/144, (1, 0): 119/144}\n",
      "(2, 1) {(0, 1): 125/216, (1, 0): 91/216}\n",
      "(2, 2) {(0, 2): 295/1296, (1, 1): 35/108, (2, 0): 581/1296}\n",
      "(2, 3) {(0, 2): 979/7776, (1, 1): 1981/7776, (2, 0): 301/486}\n",
      "(3, 1) {(0, 1): 95/144, (1, 0): 49/144}\n",
      "(3, 2) {(0, 2): 1445/3888, (1, 1): 2611/7776, (2, 0): 2275/7776}\n",
      "(3, 3) {(0, 3): 535/3888, (1, 2): 371/1728, (2, 1): 343/1296, (3, 0): 5957/15552}\n"
     ]
    }
   ],
   "source": [
    "for attack in loss_probs:\n",
    "    print(attack, loss_probs[attack])"
   ]
  },
  {
   "cell_type": "markdown",
   "metadata": {},
   "source": [
    "That's it. Those are the possible outcomes in terms of armies lost in any given _Risk_ attack, along with the probability of that outcome happening.\n",
    "\n",
    "### Battle Outcomes\n",
    "\n",
    "It's great to analyze the armies lost in a given attack. But, what we ultimately are about is probability of winning a battle. Let's look at how to do that now.\n",
    "\n",
    "For the attacker to win a battle, the defender's armies must be reduced to zero in the attacked territory. For the defender to win the battle, either the attacker's armies are reduced to zero (not including the one army that's required to remain behind), or the attacker calls of the attack.\n",
    "\n",
    "#### A Simplified Example\n",
    "\n",
    "Let's compute \"by hand\" the probability that the attacker wins a 2-on-1 battle. Later we'll figure out how to automate this for any possible battle.\n",
    "\n",
    "In a 2-on-1 battle, the first attack is also 2-on-1. The possible outcomes are: the attacker loses an army, or the defender loses an army. If the defender loses an army, the battle is over.\n",
    "\n",
    "The probability this happens is:"
   ]
  },
  {
   "cell_type": "code",
   "execution_count": 301,
   "metadata": {},
   "outputs": [
    {
     "data": {
      "text/plain": [
       "Prob(125, 216)"
      ]
     },
     "execution_count": 301,
     "metadata": {},
     "output_type": "execute_result"
    }
   ],
   "source": [
    "pA_W1 = loss_probs[(2, 1)][(0, 1)]\n",
    "pA_W1"
   ]
  },
  {
   "cell_type": "markdown",
   "metadata": {},
   "source": [
    "On the other hand, the attacker loses an army with probability:"
   ]
  },
  {
   "cell_type": "code",
   "execution_count": 302,
   "metadata": {},
   "outputs": [
    {
     "data": {
      "text/plain": [
       "Prob(91, 216)"
      ]
     },
     "execution_count": 302,
     "metadata": {},
     "output_type": "execute_result"
    }
   ],
   "source": [
    "pA_L1 = 1-pA_W1\n",
    "pA_L1"
   ]
  },
  {
   "cell_type": "markdown",
   "metadata": {},
   "source": [
    "Let's suppose the attacker is really aggressive and decides to continue the battle. This next attack would then be 1-on-1. The attacker wins this round with probability:"
   ]
  },
  {
   "cell_type": "code",
   "execution_count": 303,
   "metadata": {},
   "outputs": [
    {
     "data": {
      "text/plain": [
       "Prob(5, 12)"
      ]
     },
     "execution_count": 303,
     "metadata": {},
     "output_type": "execute_result"
    }
   ],
   "source": [
    "pA_W2 = loss_probs[(1, 1)][(0, 1)]\n",
    "pA_W2"
   ]
  },
  {
   "cell_type": "markdown",
   "metadata": {},
   "source": [
    "On the other hand, the defender prevails with probability:"
   ]
  },
  {
   "cell_type": "code",
   "execution_count": 304,
   "metadata": {},
   "outputs": [
    {
     "data": {
      "text/plain": [
       "Prob(7, 12)"
      ]
     },
     "execution_count": 304,
     "metadata": {},
     "output_type": "execute_result"
    }
   ],
   "source": [
    "pA_L2 = 1-pA_W2\n",
    "pA_L2"
   ]
  },
  {
   "cell_type": "markdown",
   "metadata": {},
   "source": [
    "The defender has the advantage in the 1-on-1 attack because the defender wins ties.\n",
    "\n",
    "We assume that each dice roll is independent as usual. That means that we can use the [>>>multiplication rule for probabilities]() to combine events. In this case, the combined event we care about is that the attacker loses the first attack but wins the second attack. This probability is:"
   ]
  },
  {
   "cell_type": "code",
   "execution_count": 305,
   "metadata": {},
   "outputs": [
    {
     "data": {
      "text/plain": [
       "Prob(455, 2592)"
      ]
     },
     "execution_count": 305,
     "metadata": {},
     "output_type": "execute_result"
    }
   ],
   "source": [
    "pA_L1W2 = pA_L1*pA_W2\n",
    "pA_L1W2"
   ]
  },
  {
   "cell_type": "markdown",
   "metadata": {},
   "source": [
    "The overall probability the attacker wins the battle is the probability of winning in the first round, plus the probability of winning in the second round. The overall probability the attacker wins the 2-on-1 battle is:"
   ]
  },
  {
   "cell_type": "code",
   "execution_count": 306,
   "metadata": {},
   "outputs": [
    {
     "data": {
      "text/plain": [
       "Prob(1955, 2592)"
      ]
     },
     "execution_count": 306,
     "metadata": {},
     "output_type": "execute_result"
    }
   ],
   "source": [
    "pA_W = pA_W1 + pA_L1W2\n",
    "pA_W"
   ]
  },
  {
   "cell_type": "markdown",
   "metadata": {},
   "source": [
    "Similarly, the probability the attacker loses is the probability of losing in the first round times the probability of losing in the second round. This probability is:"
   ]
  },
  {
   "cell_type": "code",
   "execution_count": 307,
   "metadata": {},
   "outputs": [
    {
     "data": {
      "text/plain": [
       "Prob(637, 2592)"
      ]
     },
     "execution_count": 307,
     "metadata": {},
     "output_type": "execute_result"
    }
   ],
   "source": [
    "pA_L = pA_L1*pA_L2\n",
    "pA_L"
   ]
  },
  {
   "cell_type": "markdown",
   "metadata": {},
   "source": [
    "You may wonder, why do we **add** the probabilities for winning, but **multiply** the probabilities for losing?\n",
    "\n",
    "Great question. It's because the attacker **either** wins in the first round, **or** she wins in the second round. They both cannot be true. In probability theory, these are called [mutually exclusive events](https://en.wikipedia.org/wiki/Mutual_exclusivity). You can add probabilities for mutually exclusive events because they don't overlap, if you want to know the probability that either one or the other event happens.\n",
    "\n",
    "On the other hand, for the attacker to lose under our assumptions, she must lose the first round **and** the second round. Since these are independent events, we multiply probabilities to determine the probability that they both happen.\n",
    "\n",
    "Of course, the probability that the attacker either wins or loses is one:"
   ]
  },
  {
   "cell_type": "code",
   "execution_count": 308,
   "metadata": {},
   "outputs": [
    {
     "data": {
      "text/plain": [
       "Prob(1, 1)"
      ]
     },
     "execution_count": 308,
     "metadata": {},
     "output_type": "execute_result"
    }
   ],
   "source": [
    "pA_W + pA_L"
   ]
  },
  {
   "cell_type": "markdown",
   "metadata": {},
   "source": [
    "#### Some Assumptions\n",
    "\n",
    "We made a few assumptions in the 2-on-1 battle example. First, we assumed that the first attack was 2-on-1. It might seem obvious that the attacker should use all her armies, but _Risk_ gives the players some choices on how many dice to roll in each attack.\n",
    "\n",
    "It's an interesting question whether the attacker and defender should always roll the maximum number of dice allowed. We will look at that question in a future post. For now, let's make the common choice of always rolling the maximum number of dice.\n",
    "\n",
    "We also assumed that the attacker continues to attack until losing the last possible army. We'll examine in a future post whether this is the best choice to make.\n",
    "\n",
    "### Modeling Battles in Python\n",
    "\n",
    "Let's define some more Python functions to help us represent any possible _Risk_ battle."
   ]
  },
  {
   "cell_type": "code",
   "execution_count": 309,
   "metadata": {},
   "outputs": [],
   "source": [
    "def attack_with(armies):\n",
    "    \"\"\"Attack with maximum number of armies allowed.\"\"\"\n",
    "    return min(3, attackers(armies))\n",
    "\n",
    "def defend_with(armies):\n",
    "    \"\"\"Defend with maximum number of armies allowed.\"\"\"\n",
    "    return min(3, defenders(armies))"
   ]
  },
  {
   "cell_type": "code",
   "execution_count": 310,
   "metadata": {},
   "outputs": [],
   "source": [
    "# Example battle starting armies\n",
    "start = (3, 3)"
   ]
  },
  {
   "cell_type": "code",
   "execution_count": 311,
   "metadata": {},
   "outputs": [
    {
     "data": {
      "text/plain": [
       "3"
      ]
     },
     "execution_count": 311,
     "metadata": {},
     "output_type": "execute_result"
    }
   ],
   "source": [
    "attack_with(start)"
   ]
  },
  {
   "cell_type": "code",
   "execution_count": 312,
   "metadata": {},
   "outputs": [
    {
     "data": {
      "text/plain": [
       "3"
      ]
     },
     "execution_count": 312,
     "metadata": {},
     "output_type": "execute_result"
    }
   ],
   "source": [
    "defend_with(start)"
   ]
  },
  {
   "cell_type": "code",
   "execution_count": 313,
   "metadata": {},
   "outputs": [],
   "source": [
    "def armies_left(armies, losses):\n",
    "    \"\"\"Armies remaining after losses.\"\"\"\n",
    "    return (attackers(armies)-attackers(losses), defenders(armies)-defenders(losses))"
   ]
  },
  {
   "cell_type": "code",
   "execution_count": 314,
   "metadata": {},
   "outputs": [
    {
     "data": {
      "text/plain": [
       "(2, 3)"
      ]
     },
     "execution_count": 314,
     "metadata": {},
     "output_type": "execute_result"
    }
   ],
   "source": [
    "armies_left(start, (1, 0))"
   ]
  },
  {
   "cell_type": "markdown",
   "metadata": {},
   "source": [
    "#### More on Attack Outcomes\n",
    "\n",
    "Now we want to focus on generating all the attack outcomes and their probabilities. We will also put each attack together into the larger context of the battle.\n",
    "\n",
    "Recall that we already have all the probabilities for how many armies each side can lose for a given attack."
   ]
  },
  {
   "cell_type": "code",
   "execution_count": 315,
   "metadata": {},
   "outputs": [
    {
     "data": {
      "text/plain": [
       "ProbDist({(0, 3): Prob(535, 3888), (1, 2): Prob(371, 1728), (2, 1): Prob(343, 1296), (3, 0): Prob(5957, 15552)})"
      ]
     },
     "execution_count": 315,
     "metadata": {},
     "output_type": "execute_result"
    }
   ],
   "source": [
    "# ERROR!!!!!!!!!!!!!!!!!!!!!!!!!!!!!!!!!!!!!!!!!!!!!!!!!!!!!\n",
    "loss_probs[start]"
   ]
  },
  {
   "cell_type": "markdown",
   "metadata": {},
   "source": [
    "Now, we want to compute the probabilities for how many armies each side has left after a given attack."
   ]
  },
  {
   "cell_type": "code",
   "execution_count": 316,
   "metadata": {},
   "outputs": [],
   "source": [
    "def attack_outcomes(armies):\n",
    "    \"\"\"Distribution of remaining (attacker, defender) armies after an attack.\"\"\"\n",
    "    attack = (attack_with(armies), defend_with(armies))\n",
    "    return {armies_left(armies, losses): loss_probs[attack][losses] for losses in loss_probs[attack]}"
   ]
  },
  {
   "cell_type": "code",
   "execution_count": 317,
   "metadata": {},
   "outputs": [
    {
     "data": {
      "text/plain": [
       "{(0, 3): Prob(5957, 15552),\n",
       " (1, 2): Prob(343, 1296),\n",
       " (2, 1): Prob(371, 1728),\n",
       " (3, 0): Prob(535, 3888)}"
      ]
     },
     "execution_count": 317,
     "metadata": {},
     "output_type": "execute_result"
    }
   ],
   "source": [
    "attack_outcomes(start)"
   ]
  },
  {
   "cell_type": "markdown",
   "metadata": {},
   "source": [
    "#### Deciding When a Battle is Finished\n",
    "\n",
    "Under our assumptions, a battle is over when either the attacker or defender has zero armies left."
   ]
  },
  {
   "cell_type": "code",
   "execution_count": 318,
   "metadata": {},
   "outputs": [],
   "source": [
    "def finished(attack):\n",
    "    \"\"\"True if either attacker or defender has lost battle.\"\"\"\n",
    "    return attackers(attack) == 0 or defenders(attack) == 0"
   ]
  },
  {
   "cell_type": "code",
   "execution_count": 319,
   "metadata": {},
   "outputs": [],
   "source": [
    "def attacker_wins(outcome):\n",
    "    \"\"\"True if attacker won battle.\"\"\"\n",
    "    return attackers(outcome) > 0 and defenders(outcome) == 0\n",
    "\n",
    "def defender_wins(outcome):\n",
    "    \"\"\"True if defender won battle.\"\"\"\n",
    "    return attackers(outcome) == 0 and defenders(outcome) > 0"
   ]
  },
  {
   "cell_type": "markdown",
   "metadata": {},
   "source": [
    "#### Markov Chains\n",
    "\n",
    "The hard part about modeling battles in _Risk_ is keeping track of all the possible ways a battle could go. Things were relatively simple for the 2-on-1 example, but for a 10-on-6 attack there are many more possibilities. We will look at exactly how many possibilities there are for various _Risk_ battles in a future post.\n",
    "\n",
    "For now, I want to show you one way to solve this counting problem in Python, so you can see some useful results. This code may be a little hard to understand, but it's not that  different from how you would solve this  problem by hand if you had to. The framework used to model a general battle is called a [_Markov chain_](https://en.wikipedia.org/wiki/Markov_chain). Markov chains are named after the important Russian mathematician [Andrey Markov](https://en.wikipedia.org/wiki/Andrey_Markov). We will use Markov chains a lot on this site to analyze sports. This example using _Risk_ is meant as a simple introduction.\n",
    "\n",
    "The basic idea is to start at the beginning of the battle. Since we know how many armies each side has, we know how many dice will be rolled in the first attack. We also can figure out the possible outcomes of that attack, and the distribution of possible armies each side will have left after the first attack.\n",
    "\n",
    "#### State Space\n",
    "\n",
    "Consider the _Risk_ battle as a random process. We can think of the number of armies each side has as the _state_ of the battle at any point in time. A [_state space_](https://en.wikipedia.org/wiki/State_space) is a set of values which a process can be in at any particular time. The state space has to tell us everything we would need to compute the probabilities for the next possible value of the process. The number of armies satisfies this requirement in _Risk_. If we know the number of armies, we know the number of dice to roll at each step, so we can figure out all the probabilities at each step.\n",
    "\n",
    "#### Markov Property\n",
    "\n",
    "Here's the important insight about _Risk_. The only thing that matters is the current state (i.e., how many armies each side has for the next attack). If the next attack is 3-on-2, it doesn't matter if the battle started 10-on-6 or 50-on-39. We may feel worse as the attacker if we started 50-on-39, but the probabilities of the 3-on-2 attack outcomes are the same either way.\n",
    "\n",
    "This means that a _Risk_ battle satisfies the [_Markov property_](https://en.wikipedia.org/wiki/Markov_property). A random process has the Markov property if the future outcomes of the process only depend on the _current state_ of the process. Another way of saying this is that a process has the Markov property if it doesn't remember how it got to the current state. This is true of _Risk_.\n",
    "\n",
    "#### Counting Battle States\n",
    "\n",
    "You may wonder why this matters. It matters because we don't need to keep track of all the possible paths in a battle if the battle is a Markov process. We only need to keep track of the probability of being in each state. We can essentially forget all the prior information about how we got into a particular state.\n",
    "\n",
    "This significantly lowers the difficulty in counting, as you'll see. There are much fewer states than the number of possible paths through a battle.\n",
    "\n",
    "The initial state of the battle is just the number of armies each side has to start. Since the number of armies can never go up, we only have to represent the states that have armies less than or equal to the initial number, down to at worst zero armies for one side or the other. There are a finite number of possible states for any _Risk_ battle.\n",
    "\n",
    "If we ever get to a state where one side has zero armies, the battle is over and the side with some armies remaining is the winner.\n",
    "\n",
    "#### Accumulating the Attack Probabilities\n",
    "\n",
    "In _Risk_, each attack is independent of the prior attacks in a battle. This is true because the dice rolls are independent.\n",
    "\n",
    "As we saw in the [prior notebook on joint probabilities of independent events](https://github.com/practicallypredictable/posts/blob/master/notebooks/probability-part3-coin_flips-mult_probabilities.ipynb), you multiply the probabilities of two independent events to get the probability of the joint event that both occur.\n",
    "\n",
    "In general, let's define the probability $P(S_{a,d})$ that the battle is ever in state $S_{a,d}$, where _a_ is the number of attacker armies and _d_ is the number of defender armies. Suppose we start the battle with 10 attacker and 6 defender armies. This state is $S_{10,6}$. We know there are three possible attack outcomes: the attacker loses 2 armies, the defender loses 2 armies, and each loses an army. Therefore, from the state $S_{10,6}$, the next possible states are $S_{8,6}$, $S_{9,5}$ and $S_{10,4}$. \n",
    "\n",
    "How does $P(S_{8,6})$ depend on $P(S_{10,6})$?\n",
    "\n",
    "Think of $S_{8,6}$ being a joint probability based on two outcomes. The first outcome is that we were in $S_{10,6}$ on the prior step. The second outcome is that the attacker lost 2 armies in the 3-on-2 dice roll. Let's call this probability $P(A_{-2,3v2})$. These outcomes are independent, so we multiply the probabilities.\n",
    "\n",
    "So is the following equation true?\n",
    "$$P(S_{8,6}) = P(S_{10,6}) \\times P(A_{-2,3v2})$$\n",
    "\n",
    "In this case, yes, because there is only way one for the battle to get into the state $S_{8,6}$. If we were looking at the state $S_{7,5}$, we would have to be more careful. There are two ways we could get to $S_{7,5}$. The first is from $S_{8,6}$, after which the attacker and defender each lose an army. The other is from $S_{9,5}$, after which the attacker loses 2 armies.\n",
    "\n",
    "Remember earlier in this post, we talked about mutually exclusive events. You can add probabilities of mutually exclusive events because the events don't overlap. In this example _Risk_ battle, $S_{8,6}$ and $S_{9,5}$ are mutually exclusive events. There is no way the battle can ever have been in one state if it was ever in the other state. Once you know the outcome of the first attack, you must be in one, and only one, of $S_{8,6}$, $S_{9,5}$ or $S_{10,4}$.\n",
    "\n",
    "Now we have enough information to calculate $P(S_{7,5})$.\n",
    "$$P(S_{7,5}) = P(S_{8,6}) \\times P(A_{-1,3v2}) + P(S_{9,5}) \\times P(A_{-2,3v2})$$\n",
    "\n",
    "All this equation is saying is that the probability of being in any state equals the probability of being in a possible prior state, times the probability of going from that prior state to the current state, summed over all possible prior states.\n",
    "\n",
    "This is true for any state. The probability of going from one state to the other is just the various attack outcome probabilities, based upon the number of dice rolled after the prior state. Remember that you can figure out how many dice to roll in each attack, based upon the number of armies each side has in the prior state.\n",
    "\n",
    "The results we care about are the probabilities of ending up in a state where one side has zero armies and the other side has a positive number of armies. Once we know the probabilities in each of these ending states (called _terminal states_), we can figure out the probabilities that each side won or lost the battle.\n",
    "\n",
    "#### The Algorithm\n",
    "\n",
    "The only tricky part of all this is keeping track of the possible states and the probabilities of being in each.\n",
    "\n",
    "Here's a relatively simple approach to solve this problem. First, we set the probability of the initial state to 1. The probabilities of all other possible states start at zero.\n",
    "\n",
    "Next, we look at all possible outcomes from the starting attack. We save these outcomes in a data structure which computer scientists call a [queue](https://en.wikipedia.org/wiki/Queue_(abstract_data_type)). In Python, we can represent a queue with the `deque` class from the Python standard library.\n",
    "\n",
    "We multiply the initial probability (which is 1) times each attack outcome probability, and store the results of each multiplication. To store the probabilities, we use a Python `defaultdict` structure with the state as the key. We use `defaultdict` so that the probability defaults to zero for any state we haven't looked at already.\n",
    "\n",
    "Once we've examined the possible outcomes from the initial state, we've \"used up\" the probability (initially 1) for that state. We can't end the battle at the starting point. So we erase the starting point from the outcomes, and look at whatever attack is next in the queue. This new attack will have its own possible outcomes, which are also saved in the queue if they aren't already there.\n",
    "\n",
    "If an outcome has already been seen, it's probability will be non-zero. In this case, we need to increase the probability already stored there. We always increase the probability for a state by the probability of being in the prior state, times the probability of the attack outcome that caused the prior state to change to the current state. After each step, we remove the prior state from the list of outcomes.\n",
    "\n",
    "In this way, the original probabilty of being in the starting point (with value 1) is distributed over all possible outcomes. When the queue is empty, we've examined all possible outcomes that can be rearched from the starting point. \n",
    "At the end of this process, the only states that will be left with non-zero probabilities are the terminal states.\n",
    "\n",
    "Since we only ever multiplied the probabilities of independent events or added the probabilities of mutually exclusive events, the sum of the probabilities of the terminal states had better be 1 also. The code below checks that this is true. Otherwise, there would be a bug in the code."
   ]
  },
  {
   "cell_type": "code",
   "execution_count": 320,
   "metadata": {},
   "outputs": [],
   "source": [
    "def battle_outcomes(start):\n",
    "    \"\"\"Distribution of remaining (attacker, defender) armies after a battle.\"\"\"\n",
    "    queue = deque()\n",
    "    outcomes = defaultdict(Prob)\n",
    "    queue.append(start) # starting point in the battle is only item in the queue at first\n",
    "    outcomes[start] = Prob(1) # starting point in the battle has probability 1 at first\n",
    "    while queue:\n",
    "        curr_attack = queue.popleft() # take next attack to examine out of the queue\n",
    "        prob = outcomes[curr_attack] # save probabilty of getting to this point in the battle\n",
    "        del outcomes[curr_attack] # we only want final outcomes, so remove current attack from outcomes\n",
    "        next_attack_probs = attack_outcomes(curr_attack) # look at possible outcomes for this attack\n",
    "        for next_attack in next_attack_probs:\n",
    "            new_prob = prob*next_attack_probs[next_attack] # distribute starting probabilty to outcomes\n",
    "            outcomes[next_attack] += new_prob\n",
    "            if next_attack not in queue and not finished(next_attack):\n",
    "                queue.append(next_attack) # store next attack in the queue if it might lead to other attacks\n",
    "    assert sum(outcomes.values()) == Prob(1) # this had better be true or our code is wrong\n",
    "    return ProbDist(outcomes)"
   ]
  },
  {
   "cell_type": "markdown",
   "metadata": {},
   "source": [
    "As I mentioned, we'll look at a lot of other exmaples of Markov chains on this site. They are frequently used in modeling sports outcomes. Hopefully this simplified example using _Risk_ will help you understand Markov chains better and motivate you to learn more about them.\n",
    "\n",
    "Now we can actually get some interesting results for _Risk_ battles.\n",
    "\n",
    "#### Checking the Results\n",
    "\n",
    "Let's first check the 2-on-1 example we did by hand before."
   ]
  },
  {
   "cell_type": "code",
   "execution_count": 321,
   "metadata": {},
   "outputs": [
    {
     "data": {
      "text/plain": [
       "ProbDist({(0, 1): Prob(1237201, 13436928), (0, 2): Prob(55223, 279936), (0, 3): Prob(5957, 15552), (1, 0): Prob(883715, 13436928), (2, 0): Prob(46375, 373248), (3, 0): Prob(535, 3888)})"
      ]
     },
     "execution_count": 321,
     "metadata": {},
     "output_type": "execute_result"
    }
   ],
   "source": [
    "battle_outcomes(start)"
   ]
  },
  {
   "cell_type": "code",
   "execution_count": 322,
   "metadata": {},
   "outputs": [
    {
     "data": {
      "text/plain": [
       "Prob(4402175, 13436928)"
      ]
     },
     "execution_count": 322,
     "metadata": {},
     "output_type": "execute_result"
    }
   ],
   "source": [
    "battle_outcomes(start).prob(attacker_wins)"
   ]
  },
  {
   "cell_type": "markdown",
   "metadata": {},
   "source": [
    "Good, that matches our earlier result. Now let's look at a 3-on-1 battle."
   ]
  },
  {
   "cell_type": "code",
   "execution_count": 323,
   "metadata": {},
   "outputs": [
    {
     "name": "stdout",
     "output_type": "stream",
     "text": [
      "{(0, 1): 1237201/13436928, (0, 2): 55223/279936, (0, 3): 5957/15552, (1, 0): 883715/13436928, (2, 0): 46375/373248, (3, 0): 535/3888}\n"
     ]
    }
   ],
   "source": [
    "print(battle_outcomes((3, 3)))"
   ]
  },
  {
   "cell_type": "code",
   "execution_count": 324,
   "metadata": {},
   "outputs": [
    {
     "data": {
      "text/plain": [
       "Prob(342035, 373248)"
      ]
     },
     "execution_count": 324,
     "metadata": {},
     "output_type": "execute_result"
    }
   ],
   "source": [
    "battle_outcomes((3, 1)).prob(attacker_wins)"
   ]
  },
  {
   "cell_type": "markdown",
   "metadata": {},
   "source": [
    "Let's see how to check this example by hand."
   ]
  },
  {
   "cell_type": "code",
   "execution_count": 325,
   "metadata": {},
   "outputs": [
    {
     "data": {
      "text/plain": [
       "Prob(95, 144)"
      ]
     },
     "execution_count": 325,
     "metadata": {},
     "output_type": "execute_result"
    }
   ],
   "source": [
    "pA_W1 = loss_probs[(3, 1)][(0, 1)]\n",
    "pA_W1"
   ]
  },
  {
   "cell_type": "code",
   "execution_count": 326,
   "metadata": {},
   "outputs": [
    {
     "data": {
      "text/plain": [
       "Prob(125, 216)"
      ]
     },
     "execution_count": 326,
     "metadata": {},
     "output_type": "execute_result"
    }
   ],
   "source": [
    "pA_W2 = loss_probs[(2, 1)][(0, 1)]\n",
    "pA_W2"
   ]
  },
  {
   "cell_type": "code",
   "execution_count": 327,
   "metadata": {},
   "outputs": [
    {
     "data": {
      "text/plain": [
       "Prob(5, 12)"
      ]
     },
     "execution_count": 327,
     "metadata": {},
     "output_type": "execute_result"
    }
   ],
   "source": [
    "pA_W3 = loss_probs[(1, 1)][(0, 1)]\n",
    "pA_W3"
   ]
  },
  {
   "cell_type": "markdown",
   "metadata": {},
   "source": [
    "The attacker either wins on the first round, the second round or the third round. The overall probability the attacker wins a 3-on-1 battle under our assupmtions is:"
   ]
  },
  {
   "cell_type": "code",
   "execution_count": 328,
   "metadata": {},
   "outputs": [
    {
     "data": {
      "text/plain": [
       "Prob(342035, 373248)"
      ]
     },
     "execution_count": 328,
     "metadata": {},
     "output_type": "execute_result"
    }
   ],
   "source": [
    "pA_W = pA_W1 + (1-pA_W1)*pA_W2 + (1-pA_W1)*(1-pA_W2)*pA_W3\n",
    "pA_W"
   ]
  },
  {
   "cell_type": "markdown",
   "metadata": {},
   "source": [
    "The results match, so it seems like the code is working correctly."
   ]
  },
  {
   "cell_type": "markdown",
   "metadata": {},
   "source": [
    "### Probabilities of Winning a Battle\n",
    "\n",
    "Let's build a table of probabilities for all battles up to 20-on-20."
   ]
  },
  {
   "cell_type": "code",
   "execution_count": 376,
   "metadata": {},
   "outputs": [
    {
     "data": {
      "text/plain": [
       "(144, 3)"
      ]
     },
     "execution_count": 376,
     "metadata": {},
     "output_type": "execute_result"
    }
   ],
   "source": [
    "df = pd.DataFrame([{\n",
    "        'fichas que pueden atacar': attackers(battle),\n",
    "        'fichas totales en pais que se defiende': defenders(battle),\n",
    "        'prob_att_wins': float(battle_outcomes(battle).prob(attacker_wins))\n",
    "    } for battle in it.product(range(1, 13), range(1, 13))]\n",
    ")\n",
    "df.shape"
   ]
  },
  {
   "cell_type": "code",
   "execution_count": 377,
   "metadata": {},
   "outputs": [
    {
     "data": {
      "text/html": [
       "<div>\n",
       "<style scoped>\n",
       "    .dataframe tbody tr th:only-of-type {\n",
       "        vertical-align: middle;\n",
       "    }\n",
       "\n",
       "    .dataframe tbody tr th {\n",
       "        vertical-align: top;\n",
       "    }\n",
       "\n",
       "    .dataframe thead th {\n",
       "        text-align: right;\n",
       "    }\n",
       "</style>\n",
       "<table border=\"1\" class=\"dataframe\">\n",
       "  <thead>\n",
       "    <tr style=\"text-align: right;\">\n",
       "      <th></th>\n",
       "      <th>fichas que pueden atacar</th>\n",
       "      <th>fichas totales en pais que se defiende</th>\n",
       "      <th>prob_att_wins</th>\n",
       "    </tr>\n",
       "  </thead>\n",
       "  <tbody>\n",
       "    <tr>\n",
       "      <th>0</th>\n",
       "      <td>1</td>\n",
       "      <td>1</td>\n",
       "      <td>0.417</td>\n",
       "    </tr>\n",
       "    <tr>\n",
       "      <th>1</th>\n",
       "      <td>1</td>\n",
       "      <td>2</td>\n",
       "      <td>0.106</td>\n",
       "    </tr>\n",
       "    <tr>\n",
       "      <th>2</th>\n",
       "      <td>1</td>\n",
       "      <td>3</td>\n",
       "      <td>0.018</td>\n",
       "    </tr>\n",
       "    <tr>\n",
       "      <th>3</th>\n",
       "      <td>1</td>\n",
       "      <td>4</td>\n",
       "      <td>0.003</td>\n",
       "    </tr>\n",
       "    <tr>\n",
       "      <th>4</th>\n",
       "      <td>1</td>\n",
       "      <td>5</td>\n",
       "      <td>0.001</td>\n",
       "    </tr>\n",
       "  </tbody>\n",
       "</table>\n",
       "</div>"
      ],
      "text/plain": [
       "   fichas que pueden atacar  fichas totales en pais que se defiende  \\\n",
       "0                         1                                       1   \n",
       "1                         1                                       2   \n",
       "2                         1                                       3   \n",
       "3                         1                                       4   \n",
       "4                         1                                       5   \n",
       "\n",
       "   prob_att_wins  \n",
       "0          0.417  \n",
       "1          0.106  \n",
       "2          0.018  \n",
       "3          0.003  \n",
       "4          0.001  "
      ]
     },
     "execution_count": 377,
     "metadata": {},
     "output_type": "execute_result"
    }
   ],
   "source": [
    "df.head()"
   ]
  },
  {
   "cell_type": "markdown",
   "metadata": {},
   "source": [
    "Let's pivot this table to make it more useful."
   ]
  },
  {
   "cell_type": "code",
   "execution_count": 378,
   "metadata": {},
   "outputs": [
    {
     "data": {
      "text/html": [
       "<div>\n",
       "<style scoped>\n",
       "    .dataframe tbody tr th:only-of-type {\n",
       "        vertical-align: middle;\n",
       "    }\n",
       "\n",
       "    .dataframe tbody tr th {\n",
       "        vertical-align: top;\n",
       "    }\n",
       "\n",
       "    .dataframe thead th {\n",
       "        text-align: right;\n",
       "    }\n",
       "</style>\n",
       "<table border=\"1\" class=\"dataframe\">\n",
       "  <thead>\n",
       "    <tr style=\"text-align: right;\">\n",
       "      <th>fichas totales en pais que se defiende</th>\n",
       "      <th>1</th>\n",
       "      <th>2</th>\n",
       "      <th>3</th>\n",
       "      <th>4</th>\n",
       "      <th>5</th>\n",
       "      <th>6</th>\n",
       "      <th>7</th>\n",
       "      <th>8</th>\n",
       "      <th>9</th>\n",
       "      <th>10</th>\n",
       "      <th>11</th>\n",
       "      <th>12</th>\n",
       "    </tr>\n",
       "    <tr>\n",
       "      <th>fichas que pueden atacar</th>\n",
       "      <th></th>\n",
       "      <th></th>\n",
       "      <th></th>\n",
       "      <th></th>\n",
       "      <th></th>\n",
       "      <th></th>\n",
       "      <th></th>\n",
       "      <th></th>\n",
       "      <th></th>\n",
       "      <th></th>\n",
       "      <th></th>\n",
       "      <th></th>\n",
       "    </tr>\n",
       "  </thead>\n",
       "  <tbody>\n",
       "    <tr>\n",
       "      <th>1</th>\n",
       "      <td>0.417</td>\n",
       "      <td>0.106</td>\n",
       "      <td>0.018</td>\n",
       "      <td>0.003</td>\n",
       "      <td>0.001</td>\n",
       "      <td>0.000</td>\n",
       "      <td>0.000</td>\n",
       "      <td>0.000</td>\n",
       "      <td>0.000</td>\n",
       "      <td>0.000</td>\n",
       "      <td>0.000</td>\n",
       "      <td>0.000</td>\n",
       "    </tr>\n",
       "    <tr>\n",
       "      <th>2</th>\n",
       "      <td>0.754</td>\n",
       "      <td>0.363</td>\n",
       "      <td>0.122</td>\n",
       "      <td>0.050</td>\n",
       "      <td>0.016</td>\n",
       "      <td>0.006</td>\n",
       "      <td>0.002</td>\n",
       "      <td>0.001</td>\n",
       "      <td>0.000</td>\n",
       "      <td>0.000</td>\n",
       "      <td>0.000</td>\n",
       "      <td>0.000</td>\n",
       "    </tr>\n",
       "    <tr>\n",
       "      <th>3</th>\n",
       "      <td>0.916</td>\n",
       "      <td>0.656</td>\n",
       "      <td>0.328</td>\n",
       "      <td>0.209</td>\n",
       "      <td>0.117</td>\n",
       "      <td>0.056</td>\n",
       "      <td>0.032</td>\n",
       "      <td>0.018</td>\n",
       "      <td>0.008</td>\n",
       "      <td>0.005</td>\n",
       "      <td>0.002</td>\n",
       "      <td>0.001</td>\n",
       "    </tr>\n",
       "    <tr>\n",
       "      <th>4</th>\n",
       "      <td>0.972</td>\n",
       "      <td>0.785</td>\n",
       "      <td>0.437</td>\n",
       "      <td>0.308</td>\n",
       "      <td>0.192</td>\n",
       "      <td>0.109</td>\n",
       "      <td>0.069</td>\n",
       "      <td>0.039</td>\n",
       "      <td>0.022</td>\n",
       "      <td>0.013</td>\n",
       "      <td>0.007</td>\n",
       "      <td>0.004</td>\n",
       "    </tr>\n",
       "    <tr>\n",
       "      <th>5</th>\n",
       "      <td>0.990</td>\n",
       "      <td>0.890</td>\n",
       "      <td>0.567</td>\n",
       "      <td>0.411</td>\n",
       "      <td>0.278</td>\n",
       "      <td>0.178</td>\n",
       "      <td>0.113</td>\n",
       "      <td>0.071</td>\n",
       "      <td>0.044</td>\n",
       "      <td>0.026</td>\n",
       "      <td>0.016</td>\n",
       "      <td>0.010</td>\n",
       "    </tr>\n",
       "    <tr>\n",
       "      <th>6</th>\n",
       "      <td>0.997</td>\n",
       "      <td>0.934</td>\n",
       "      <td>0.684</td>\n",
       "      <td>0.524</td>\n",
       "      <td>0.377</td>\n",
       "      <td>0.255</td>\n",
       "      <td>0.173</td>\n",
       "      <td>0.115</td>\n",
       "      <td>0.073</td>\n",
       "      <td>0.047</td>\n",
       "      <td>0.030</td>\n",
       "      <td>0.018</td>\n",
       "    </tr>\n",
       "    <tr>\n",
       "      <th>7</th>\n",
       "      <td>0.999</td>\n",
       "      <td>0.967</td>\n",
       "      <td>0.755</td>\n",
       "      <td>0.606</td>\n",
       "      <td>0.462</td>\n",
       "      <td>0.332</td>\n",
       "      <td>0.238</td>\n",
       "      <td>0.163</td>\n",
       "      <td>0.110</td>\n",
       "      <td>0.074</td>\n",
       "      <td>0.048</td>\n",
       "      <td>0.031</td>\n",
       "    </tr>\n",
       "    <tr>\n",
       "      <th>8</th>\n",
       "      <td>1.000</td>\n",
       "      <td>0.980</td>\n",
       "      <td>0.816</td>\n",
       "      <td>0.683</td>\n",
       "      <td>0.542</td>\n",
       "      <td>0.410</td>\n",
       "      <td>0.304</td>\n",
       "      <td>0.219</td>\n",
       "      <td>0.155</td>\n",
       "      <td>0.106</td>\n",
       "      <td>0.072</td>\n",
       "      <td>0.049</td>\n",
       "    </tr>\n",
       "    <tr>\n",
       "      <th>9</th>\n",
       "      <td>1.000</td>\n",
       "      <td>0.990</td>\n",
       "      <td>0.870</td>\n",
       "      <td>0.748</td>\n",
       "      <td>0.616</td>\n",
       "      <td>0.486</td>\n",
       "      <td>0.373</td>\n",
       "      <td>0.280</td>\n",
       "      <td>0.203</td>\n",
       "      <td>0.145</td>\n",
       "      <td>0.103</td>\n",
       "      <td>0.070</td>\n",
       "    </tr>\n",
       "    <tr>\n",
       "      <th>10</th>\n",
       "      <td>1.000</td>\n",
       "      <td>0.994</td>\n",
       "      <td>0.901</td>\n",
       "      <td>0.798</td>\n",
       "      <td>0.681</td>\n",
       "      <td>0.555</td>\n",
       "      <td>0.442</td>\n",
       "      <td>0.341</td>\n",
       "      <td>0.257</td>\n",
       "      <td>0.190</td>\n",
       "      <td>0.137</td>\n",
       "      <td>0.097</td>\n",
       "    </tr>\n",
       "    <tr>\n",
       "      <th>11</th>\n",
       "      <td>1.000</td>\n",
       "      <td>0.997</td>\n",
       "      <td>0.927</td>\n",
       "      <td>0.843</td>\n",
       "      <td>0.736</td>\n",
       "      <td>0.619</td>\n",
       "      <td>0.507</td>\n",
       "      <td>0.403</td>\n",
       "      <td>0.313</td>\n",
       "      <td>0.238</td>\n",
       "      <td>0.177</td>\n",
       "      <td>0.130</td>\n",
       "    </tr>\n",
       "    <tr>\n",
       "      <th>12</th>\n",
       "      <td>1.000</td>\n",
       "      <td>0.998</td>\n",
       "      <td>0.949</td>\n",
       "      <td>0.877</td>\n",
       "      <td>0.784</td>\n",
       "      <td>0.678</td>\n",
       "      <td>0.569</td>\n",
       "      <td>0.465</td>\n",
       "      <td>0.370</td>\n",
       "      <td>0.288</td>\n",
       "      <td>0.221</td>\n",
       "      <td>0.165</td>\n",
       "    </tr>\n",
       "  </tbody>\n",
       "</table>\n",
       "</div>"
      ],
      "text/plain": [
       "fichas totales en pais que se defiende    1     2     3     4     5     6   \\\n",
       "fichas que pueden atacar                                                     \n",
       "1                                      0.417 0.106 0.018 0.003 0.001 0.000   \n",
       "2                                      0.754 0.363 0.122 0.050 0.016 0.006   \n",
       "3                                      0.916 0.656 0.328 0.209 0.117 0.056   \n",
       "4                                      0.972 0.785 0.437 0.308 0.192 0.109   \n",
       "5                                      0.990 0.890 0.567 0.411 0.278 0.178   \n",
       "6                                      0.997 0.934 0.684 0.524 0.377 0.255   \n",
       "7                                      0.999 0.967 0.755 0.606 0.462 0.332   \n",
       "8                                      1.000 0.980 0.816 0.683 0.542 0.410   \n",
       "9                                      1.000 0.990 0.870 0.748 0.616 0.486   \n",
       "10                                     1.000 0.994 0.901 0.798 0.681 0.555   \n",
       "11                                     1.000 0.997 0.927 0.843 0.736 0.619   \n",
       "12                                     1.000 0.998 0.949 0.877 0.784 0.678   \n",
       "\n",
       "fichas totales en pais que se defiende    7     8     9     10    11    12  \n",
       "fichas que pueden atacar                                                    \n",
       "1                                      0.000 0.000 0.000 0.000 0.000 0.000  \n",
       "2                                      0.002 0.001 0.000 0.000 0.000 0.000  \n",
       "3                                      0.032 0.018 0.008 0.005 0.002 0.001  \n",
       "4                                      0.069 0.039 0.022 0.013 0.007 0.004  \n",
       "5                                      0.113 0.071 0.044 0.026 0.016 0.010  \n",
       "6                                      0.173 0.115 0.073 0.047 0.030 0.018  \n",
       "7                                      0.238 0.163 0.110 0.074 0.048 0.031  \n",
       "8                                      0.304 0.219 0.155 0.106 0.072 0.049  \n",
       "9                                      0.373 0.280 0.203 0.145 0.103 0.070  \n",
       "10                                     0.442 0.341 0.257 0.190 0.137 0.097  \n",
       "11                                     0.507 0.403 0.313 0.238 0.177 0.130  \n",
       "12                                     0.569 0.465 0.370 0.288 0.221 0.165  "
      ]
     },
     "execution_count": 378,
     "metadata": {},
     "output_type": "execute_result"
    }
   ],
   "source": [
    "prob_table = df.pivot(index='fichas que pueden atacar', columns='fichas totales en pais que se defiende', values='prob_att_wins')\n",
    "prob_table"
   ]
  },
  {
   "cell_type": "markdown",
   "metadata": {},
   "source": [
    "### Some Charts\n",
    "\n",
    "Rather than use a table, let's create some visualiztions of the results to get some more intuition.\n",
    "\n",
    "#### Heatmap\n",
    "\n",
    "Here's a [heatmap](https://en.wikipedia.org/wiki/Heat_map) of the battle probabilities. Stronger red means higher probability that the attacker wins, while stronger blue means the defender has the advantage."
   ]
  },
  {
   "cell_type": "code",
   "execution_count": 381,
   "metadata": {
    "scrolled": true
   },
   "outputs": [
    {
     "data": {
      "image/png": "[encoded data removed]",
      "text/plain": [
       "<Figure size 1152x864 with 1 Axes>"
      ]
     },
     "metadata": {
      "needs_background": "light"
     },
     "output_type": "display_data"
    }
   ],
   "source": [
    "fig, ax = plt.subplots(figsize=(16, 12))\n",
    "sns.heatmap(prob_table, square=True, annot=True, center=0.5, cmap='coolwarm', fmt='.0%', linewidths=0.1, linecolor='white',cbar=False, ax=ax)\n",
    "plt.show()"
   ]
  },
  {
   "cell_type": "markdown",
   "metadata": {},
   "source": [
    "You can see that for small battles, you need to have more attackers than defenders to have better than 50-50 odds in _Risk_. This is because the defender wins on ties.\n",
    "\n",
    "After the attacker has 5 armies, however, the attacker has better than even odds with an equal number of armies. This is because the attacker can roll 3 dice, while the defender can roll only 2.\n",
    "\n",
    "#### Battle Win Probabilities by Matchup\n",
    "\n",
    "Another way to look at the results is to plot the win probabilities of various matchups. Here's a plot."
   ]
  },
  {
   "cell_type": "code",
   "execution_count": 333,
   "metadata": {},
   "outputs": [],
   "source": [
    "prob_curves = df[df['def'].isin([1, 2, 3, 4, 5, 10, 15, 20])].pivot(\n",
    "    index='att',\n",
    "    columns='def',\n",
    "    values='prob_att_wins'\n",
    ")\n",
    "prob_curves.columns.name = 'defenders'\n",
    "prob_curves.index.name = 'attackers'"
   ]
  },
  {
   "cell_type": "code",
   "execution_count": 340,
   "metadata": {},
   "outputs": [
    {
     "data": {
      "image/png": "[encoded data removed]",
      "text/plain": [
       "<Figure size 648x432 with 1 Axes>"
      ]
     },
     "metadata": {
      "needs_background": "light"
     },
     "output_type": "display_data"
    }
   ],
   "source": [
    "fig, ax = plt.subplots(figsize=(9, 6))\n",
    "ax = prob_curves.plot.line(\n",
    "    ax=ax,\n",
    "    xticks=prob_curves.index,\n",
    ")\n",
    "ax.set_ylabel('battle win probability')\n",
    "plt.show()"
   ]
  },
  {
   "cell_type": "markdown",
   "metadata": {},
   "source": [
    "This plot is interesting. You can see how the slope of the probability curves change as the number of attackers increases. When the number of attackers equals the number of defenders, the curves look like relatively straight lines. When the number of attackers is much less than the number of defenders, the curves start off more horizontal, then start sloping up steeply. Of course, when the number of attackers is much larger than the number of defenders, the attacker is almost certain to win the battle. This means that the probability curve has to be pretty close to horizontal near the value 1.\n",
    "\n",
    "#### Battle Win Probabilities by Attacker Advantage\n",
    "\n",
    "Here's another interesting way to visualize the _Risk_ battle probabilities. Let's call how many more armies the attacker has than the defender the _attacker advantage_. We can look at how much the attacker advantage impacts the battle win probability, as we vary the number of attacker armies.\n",
    "\n",
    "First, let's define a small function to extract the win probabilities for a given attacker advantage, and return them as a column. Notice that in our original table of win probabilities, the values with constant attacker advantage are on the _diagonal_ going down and to the right. The values with attacker advantage of 1 are, for example, (2, 1), (3, 2), (4, 3) and so on."
   ]
  },
  {
   "cell_type": "code",
   "execution_count": 335,
   "metadata": {},
   "outputs": [],
   "source": [
    "def att_prob_by_advantage(df, n):\n",
    "    return (\n",
    "        df.loc[df['att'] - df['def'] == n, ['att', 'prob_att_wins']]\n",
    "        .rename(columns={'prob_att_wins': n})\n",
    "        .set_index('att')\n",
    "    )"
   ]
  },
  {
   "cell_type": "markdown",
   "metadata": {},
   "source": [
    "Now that we have this function, we can use it to create a new table lined up the way we need. Notice that this table has `nan` (meaning \"not-a-number' in `numpy` and `pandas`) for matchups that don't make sense. There's no way to have a 1-on-1 battle with an attacker advantage of 1, for example. Fortunately, `pandas` will ignore these `nan` values in making the plot."
   ]
  },
  {
   "cell_type": "code",
   "execution_count": 336,
   "metadata": {},
   "outputs": [
    {
     "data": {
      "text/html": [
       "<div>\n",
       "<style scoped>\n",
       "    .dataframe tbody tr th:only-of-type {\n",
       "        vertical-align: middle;\n",
       "    }\n",
       "\n",
       "    .dataframe tbody tr th {\n",
       "        vertical-align: top;\n",
       "    }\n",
       "\n",
       "    .dataframe thead th {\n",
       "        text-align: right;\n",
       "    }\n",
       "</style>\n",
       "<table border=\"1\" class=\"dataframe\">\n",
       "  <thead>\n",
       "    <tr style=\"text-align: right;\">\n",
       "      <th>attacker advantage</th>\n",
       "      <th>0</th>\n",
       "      <th>1</th>\n",
       "      <th>2</th>\n",
       "      <th>3</th>\n",
       "      <th>4</th>\n",
       "      <th>5</th>\n",
       "      <th>6</th>\n",
       "      <th>7</th>\n",
       "    </tr>\n",
       "    <tr>\n",
       "      <th>attackers</th>\n",
       "      <th></th>\n",
       "      <th></th>\n",
       "      <th></th>\n",
       "      <th></th>\n",
       "      <th></th>\n",
       "      <th></th>\n",
       "      <th></th>\n",
       "      <th></th>\n",
       "    </tr>\n",
       "  </thead>\n",
       "  <tbody>\n",
       "    <tr>\n",
       "      <th>1</th>\n",
       "      <td>0.417</td>\n",
       "      <td>nan</td>\n",
       "      <td>nan</td>\n",
       "      <td>nan</td>\n",
       "      <td>nan</td>\n",
       "      <td>nan</td>\n",
       "      <td>nan</td>\n",
       "      <td>nan</td>\n",
       "    </tr>\n",
       "    <tr>\n",
       "      <th>2</th>\n",
       "      <td>0.363</td>\n",
       "      <td>0.754</td>\n",
       "      <td>nan</td>\n",
       "      <td>nan</td>\n",
       "      <td>nan</td>\n",
       "      <td>nan</td>\n",
       "      <td>nan</td>\n",
       "      <td>nan</td>\n",
       "    </tr>\n",
       "    <tr>\n",
       "      <th>3</th>\n",
       "      <td>0.328</td>\n",
       "      <td>0.656</td>\n",
       "      <td>0.916</td>\n",
       "      <td>nan</td>\n",
       "      <td>nan</td>\n",
       "      <td>nan</td>\n",
       "      <td>nan</td>\n",
       "      <td>nan</td>\n",
       "    </tr>\n",
       "    <tr>\n",
       "      <th>4</th>\n",
       "      <td>0.308</td>\n",
       "      <td>0.437</td>\n",
       "      <td>0.785</td>\n",
       "      <td>0.972</td>\n",
       "      <td>nan</td>\n",
       "      <td>nan</td>\n",
       "      <td>nan</td>\n",
       "      <td>nan</td>\n",
       "    </tr>\n",
       "    <tr>\n",
       "      <th>5</th>\n",
       "      <td>0.278</td>\n",
       "      <td>0.411</td>\n",
       "      <td>0.567</td>\n",
       "      <td>0.890</td>\n",
       "      <td>0.990</td>\n",
       "      <td>nan</td>\n",
       "      <td>nan</td>\n",
       "      <td>nan</td>\n",
       "    </tr>\n",
       "    <tr>\n",
       "      <th>6</th>\n",
       "      <td>0.255</td>\n",
       "      <td>0.377</td>\n",
       "      <td>0.524</td>\n",
       "      <td>0.684</td>\n",
       "      <td>0.934</td>\n",
       "      <td>0.997</td>\n",
       "      <td>nan</td>\n",
       "      <td>nan</td>\n",
       "    </tr>\n",
       "    <tr>\n",
       "      <th>7</th>\n",
       "      <td>0.238</td>\n",
       "      <td>0.332</td>\n",
       "      <td>0.462</td>\n",
       "      <td>0.606</td>\n",
       "      <td>0.755</td>\n",
       "      <td>0.967</td>\n",
       "      <td>0.999</td>\n",
       "      <td>nan</td>\n",
       "    </tr>\n",
       "    <tr>\n",
       "      <th>8</th>\n",
       "      <td>0.219</td>\n",
       "      <td>0.304</td>\n",
       "      <td>0.410</td>\n",
       "      <td>0.542</td>\n",
       "      <td>0.683</td>\n",
       "      <td>0.816</td>\n",
       "      <td>0.980</td>\n",
       "      <td>1.000</td>\n",
       "    </tr>\n",
       "    <tr>\n",
       "      <th>9</th>\n",
       "      <td>0.203</td>\n",
       "      <td>0.280</td>\n",
       "      <td>0.373</td>\n",
       "      <td>0.486</td>\n",
       "      <td>0.616</td>\n",
       "      <td>0.748</td>\n",
       "      <td>0.870</td>\n",
       "      <td>0.990</td>\n",
       "    </tr>\n",
       "    <tr>\n",
       "      <th>10</th>\n",
       "      <td>0.190</td>\n",
       "      <td>0.257</td>\n",
       "      <td>0.341</td>\n",
       "      <td>0.442</td>\n",
       "      <td>0.555</td>\n",
       "      <td>0.681</td>\n",
       "      <td>0.798</td>\n",
       "      <td>0.901</td>\n",
       "    </tr>\n",
       "    <tr>\n",
       "      <th>11</th>\n",
       "      <td>0.177</td>\n",
       "      <td>0.238</td>\n",
       "      <td>0.313</td>\n",
       "      <td>0.403</td>\n",
       "      <td>0.507</td>\n",
       "      <td>0.619</td>\n",
       "      <td>0.736</td>\n",
       "      <td>0.843</td>\n",
       "    </tr>\n",
       "    <tr>\n",
       "      <th>12</th>\n",
       "      <td>0.165</td>\n",
       "      <td>0.221</td>\n",
       "      <td>0.288</td>\n",
       "      <td>0.370</td>\n",
       "      <td>0.465</td>\n",
       "      <td>0.569</td>\n",
       "      <td>0.678</td>\n",
       "      <td>0.784</td>\n",
       "    </tr>\n",
       "    <tr>\n",
       "      <th>13</th>\n",
       "      <td>0.155</td>\n",
       "      <td>0.205</td>\n",
       "      <td>0.267</td>\n",
       "      <td>0.342</td>\n",
       "      <td>0.427</td>\n",
       "      <td>0.524</td>\n",
       "      <td>0.626</td>\n",
       "      <td>0.728</td>\n",
       "    </tr>\n",
       "    <tr>\n",
       "      <th>14</th>\n",
       "      <td>0.145</td>\n",
       "      <td>0.191</td>\n",
       "      <td>0.248</td>\n",
       "      <td>0.315</td>\n",
       "      <td>0.395</td>\n",
       "      <td>0.484</td>\n",
       "      <td>0.579</td>\n",
       "      <td>0.678</td>\n",
       "    </tr>\n",
       "    <tr>\n",
       "      <th>15</th>\n",
       "      <td>0.136</td>\n",
       "      <td>0.179</td>\n",
       "      <td>0.230</td>\n",
       "      <td>0.293</td>\n",
       "      <td>0.366</td>\n",
       "      <td>0.448</td>\n",
       "      <td>0.538</td>\n",
       "      <td>0.631</td>\n",
       "    </tr>\n",
       "    <tr>\n",
       "      <th>16</th>\n",
       "      <td>0.128</td>\n",
       "      <td>0.167</td>\n",
       "      <td>0.215</td>\n",
       "      <td>0.272</td>\n",
       "      <td>0.339</td>\n",
       "      <td>0.416</td>\n",
       "      <td>0.500</td>\n",
       "      <td>0.589</td>\n",
       "    </tr>\n",
       "    <tr>\n",
       "      <th>17</th>\n",
       "      <td>0.120</td>\n",
       "      <td>0.156</td>\n",
       "      <td>0.201</td>\n",
       "      <td>0.253</td>\n",
       "      <td>0.316</td>\n",
       "      <td>0.387</td>\n",
       "      <td>0.465</td>\n",
       "      <td>0.550</td>\n",
       "    </tr>\n",
       "    <tr>\n",
       "      <th>18</th>\n",
       "      <td>0.113</td>\n",
       "      <td>0.147</td>\n",
       "      <td>0.187</td>\n",
       "      <td>0.236</td>\n",
       "      <td>0.294</td>\n",
       "      <td>0.360</td>\n",
       "      <td>0.434</td>\n",
       "      <td>0.514</td>\n",
       "    </tr>\n",
       "    <tr>\n",
       "      <th>19</th>\n",
       "      <td>0.107</td>\n",
       "      <td>0.137</td>\n",
       "      <td>0.175</td>\n",
       "      <td>0.221</td>\n",
       "      <td>0.274</td>\n",
       "      <td>0.336</td>\n",
       "      <td>0.405</td>\n",
       "      <td>0.480</td>\n",
       "    </tr>\n",
       "    <tr>\n",
       "      <th>20</th>\n",
       "      <td>0.100</td>\n",
       "      <td>0.129</td>\n",
       "      <td>0.165</td>\n",
       "      <td>0.206</td>\n",
       "      <td>0.256</td>\n",
       "      <td>0.314</td>\n",
       "      <td>0.379</td>\n",
       "      <td>0.450</td>\n",
       "    </tr>\n",
       "  </tbody>\n",
       "</table>\n",
       "</div>"
      ],
      "text/plain": [
       "attacker advantage     0     1     2     3     4     5     6     7\n",
       "attackers                                                         \n",
       "1                  0.417   nan   nan   nan   nan   nan   nan   nan\n",
       "2                  0.363 0.754   nan   nan   nan   nan   nan   nan\n",
       "3                  0.328 0.656 0.916   nan   nan   nan   nan   nan\n",
       "4                  0.308 0.437 0.785 0.972   nan   nan   nan   nan\n",
       "5                  0.278 0.411 0.567 0.890 0.990   nan   nan   nan\n",
       "6                  0.255 0.377 0.524 0.684 0.934 0.997   nan   nan\n",
       "7                  0.238 0.332 0.462 0.606 0.755 0.967 0.999   nan\n",
       "8                  0.219 0.304 0.410 0.542 0.683 0.816 0.980 1.000\n",
       "9                  0.203 0.280 0.373 0.486 0.616 0.748 0.870 0.990\n",
       "10                 0.190 0.257 0.341 0.442 0.555 0.681 0.798 0.901\n",
       "11                 0.177 0.238 0.313 0.403 0.507 0.619 0.736 0.843\n",
       "12                 0.165 0.221 0.288 0.370 0.465 0.569 0.678 0.784\n",
       "13                 0.155 0.205 0.267 0.342 0.427 0.524 0.626 0.728\n",
       "14                 0.145 0.191 0.248 0.315 0.395 0.484 0.579 0.678\n",
       "15                 0.136 0.179 0.230 0.293 0.366 0.448 0.538 0.631\n",
       "16                 0.128 0.167 0.215 0.272 0.339 0.416 0.500 0.589\n",
       "17                 0.120 0.156 0.201 0.253 0.316 0.387 0.465 0.550\n",
       "18                 0.113 0.147 0.187 0.236 0.294 0.360 0.434 0.514\n",
       "19                 0.107 0.137 0.175 0.221 0.274 0.336 0.405 0.480\n",
       "20                 0.100 0.129 0.165 0.206 0.256 0.314 0.379 0.450"
      ]
     },
     "execution_count": 336,
     "metadata": {},
     "output_type": "execute_result"
    }
   ],
   "source": [
    "prob_by_adv = pd.concat([att_prob_by_advantage(df, n) for n in range(0, 8)], axis='columns')\n",
    "prob_by_adv.columns.name = 'attacker advantage'\n",
    "prob_by_adv.index.name = 'attackers'\n",
    "prob_by_adv"
   ]
  },
  {
   "cell_type": "code",
   "execution_count": 337,
   "metadata": {},
   "outputs": [
    {
     "data": {
      "image/png": "[encoded data removed]",
      "text/plain": [
       "<Figure size 648x432 with 1 Axes>"
      ]
     },
     "metadata": {
      "needs_background": "light"
     },
     "output_type": "display_data"
    }
   ],
   "source": [
    "fig, ax = plt.subplots(figsize=(9, 6))\n",
    "ax = prob_by_adv.plot(ax=ax, xticks=prob_by_adv.index)\n",
    "ax.set_ylabel('battle win probability')\n",
    "plt.show()"
   ]
  },
  {
   "cell_type": "markdown",
   "metadata": {},
   "source": [
    "The bottommost (red) curve is for an attacker advantage of zero: the even-army matchup we already looked at. You can see how it exceeds 50% when the attacker has more than 5 armies. The line continues to rise slowly as the number of attacker armies increases.\n",
    "\n",
    "With a 1- or 2-army attacker advantage, the curves drop quickly and then become relativley flat around 65-75% win probability. For _Risk_ battles with more than 5 attacking armies and a 1- or 2-army defender advantage, you can just remember the rule of thumb that the attacker should win around 70% of the battles.\n",
    "\n",
    "It seems like the curves are gradually converging as the number of armies increase. Let's see what the values are for 100 attacking armies."
   ]
  },
  {
   "cell_type": "code",
   "execution_count": 338,
   "metadata": {},
   "outputs": [
    {
     "data": {
      "text/plain": [
       "0.0016862523740338508"
      ]
     },
     "execution_count": 338,
     "metadata": {},
     "output_type": "execute_result"
    }
   ],
   "source": [
    "float(battle_outcomes((100, 100)).prob(attacker_wins))"
   ]
  },
  {
   "cell_type": "code",
   "execution_count": 339,
   "metadata": {},
   "outputs": [
    {
     "data": {
      "text/plain": [
       "0.004692279636173258"
      ]
     },
     "execution_count": 339,
     "metadata": {},
     "output_type": "execute_result"
    }
   ],
   "source": [
    "float(battle_outcomes((107, 100)).prob(attacker_wins))"
   ]
  },
  {
   "cell_type": "markdown",
   "metadata": {
    "collapsed": true
   },
   "source": [
    "So yes, the curves are closer together when the number of armies gets very large. The even-matchup curve is up over 80% win probabilty, while the curve for 7 attacker advantage is down to 91.5%, not much less than it is at 20 armies in the plot above.\n",
    "\n",
    "### Closing Thoughts\n",
    "\n",
    "For the larger attacker advantages in the plot above, the curves slope down over the entire range we examined here. This means that on a relative basis, your win probability is getting _worse_ as your throw more attackers into the battle. The analysis says you have better odds of success attacking 15-on-8 compared with 20-on-13.\n",
    "\n",
    "There's clearly more going on here than meets the eye. It turns out that win probability isn't the only way (or the best way) to analyze _Risk_, since it ignores how many armies the attacker can expect to have left over even if she wins. If you have a high probability of winning an attack, but will lose an enormous number of armies in the process, the attack might not make sense.\n",
    "\n",
    "We'll look at these issues in more detail in future posts."
   ]
  },
  {
   "cell_type": "code",
   "execution_count": null,
   "metadata": {},
   "outputs": [],
   "source": []
  },
  {
   "cell_type": "code",
   "execution_count": null,
   "metadata": {},
   "outputs": [],
   "source": []
  }
 ],
 "metadata": {
  "kernelspec": {
   "display_name": "Python 3",
   "language": "python",
   "name": "python3"
  },
  "language_info": {
   "codemirror_mode": {
    "name": "ipython",
    "version": 3
   },
   "file_extension": ".py",
   "mimetype": "text/x-python",
   "name": "python",
   "nbconvert_exporter": "python",
   "pygments_lexer": "ipython3",
   "version": "3.7.3"
  }
 },
 "nbformat": 4,
 "nbformat_minor": 2
}
